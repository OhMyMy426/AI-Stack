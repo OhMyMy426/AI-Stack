{
 "cells": [
  {
   "cell_type": "code",
   "id": "initial_id",
   "metadata": {
    "collapsed": true,
    "ExecuteTime": {
     "end_time": "2025-05-20T19:54:30.296447Z",
     "start_time": "2025-05-20T19:54:30.289172Z"
    }
   },
   "source": [
    "hr_lines = [\n",
    "    \"Hi John, thanks for joining. Please have a seat.\",\n",
    "    \"I know this might not be an easy conversation, but I want to be direct and respectful. After a thorough review, the management has made the decision to end your employment with the company, effective immediately.\",\n",
    "    \"Yes. I understand this may come as a shock. This decision was not taken lightly.\",\n",
    "    \"I completely understand your concern. The decision was based on a combination of factors, including ongoing feedback regarding project deadlines, communication with the team, and alignment with company goals. This has been discussed over the past few months during your check-ins.\",\n",
    "    \"You’re right that we didn’t issue a formal Performance Improvement Plan. However, your last two evaluations did raise several red flags. The management team discussed this and decided not to proceed with a PIP but rather make a direct decision.\",\n",
    "    \"That was also a factor. The company is going through changes, and unfortunately, that means reducing roles in some departments.\",\n",
    "    \"Your access to company systems will end by the end of today. You’ll receive two months’ severance pay, continued health benefits for 30 days, and we’ll offer outplacement support if you’re interested.\",\n",
    "    \"Yes. I’m happy to provide a neutral reference confirming your role and time here. For a more detailed recommendation, I suggest reaching out to your former manager directly.\",\n",
    "    \"Just your laptop and access card. You can leave them with IT today or tomorrow. We’ll email a checklist.\",\n",
    "    \"I truly wish you all the best, John. If you need anything over the next few days, don’t hesitate to reach out.\"\n",
    "]\n",
    "\n",
    "employee_lines = [\n",
    "    \"Sure, thanks Mary.\",\n",
    "    \"…Wait—I'm being let go?\",\n",
    "    \"Can I ask why? I thought my performance had been solid lately.\",\n",
    "    \"But no one told me I was at risk of being fired. I was never formally warned.\",\n",
    "    \"I’m still surprised. I’ve been trying to improve. Is this related to the recent restructuring?\",\n",
    "    \"So, what happens now?\",\n",
    "    \"Will I be able to get a reference?\",\n",
    "    \"Alright. Do I need to return anything?\",\n",
    "    \"I see. Well… this is not how I imagined today would go. But I appreciate the clarity.\",\n",
    "    \"Thanks, Mary. I’ll take some time to process this.\"\n",
    "]\n",
    "hr_directory = r\"E:\\Desktop\\AI Stack\\conversation-resource\\hr\"\n",
    "employee_directory = r\"E:\\Desktop\\AI Stack\\conversation-resource\\employee\""
   ],
   "outputs": [],
   "execution_count": 65
  },
  {
   "metadata": {
    "ExecuteTime": {
     "end_time": "2025-05-20T19:54:33.000697Z",
     "start_time": "2025-05-20T19:54:32.993697Z"
    }
   },
   "cell_type": "code",
   "source": [
    "import openai\n",
    "import os\n",
    "from dotenv import load_dotenv\n",
    "\n",
    "load_dotenv()\n",
    "openai.api_key = os.getenv(\"OPENAI_COACH_PROJECT_KEY\")"
   ],
   "id": "345af3660e0c3c61",
   "outputs": [],
   "execution_count": 66
  },
  {
   "metadata": {
    "ExecuteTime": {
     "end_time": "2025-05-20T19:54:34.774607Z",
     "start_time": "2025-05-20T19:54:34.768384Z"
    }
   },
   "cell_type": "code",
   "source": [
    "import openai\n",
    "import time\n",
    "\n",
    "\n",
    "def tts_openai_invoke(input_text, output_path):\n",
    "    start = time.time()\n",
    "    response = openai.audio.speech.create(\n",
    "        model=\"tts-1\",  # or \"tts-1-hd\"\n",
    "        voice=\"alloy\",  # or: alloy, echo, fable, onyx, nova, shimmer\n",
    "        input=input_text\n",
    "    )\n",
    "\n",
    "    with open(output_path, \"wb\") as f:\n",
    "        f.write(response.content)\n",
    "\n",
    "    print(f\"✅ Audio saved to {os.path.basename(output_path)} within {time.time() - start:.2f} seconds\")"
   ],
   "id": "32bd217abfa741ba",
   "outputs": [],
   "execution_count": 67
  },
  {
   "metadata": {
    "ExecuteTime": {
     "end_time": "2025-05-20T19:54:37.292214Z",
     "start_time": "2025-05-20T19:54:37.279606Z"
    }
   },
   "cell_type": "code",
   "source": [
    "import os\n",
    "from google.cloud import texttospeech\n",
    "from dotenv import load_dotenv\n",
    "import time\n",
    "\n",
    "load_dotenv()\n",
    "\n",
    "client = texttospeech.TextToSpeechClient()\n",
    "\n",
    "\n",
    "def tts_google_invoke(input_text, output_path):\n",
    "    start = time.time()\n",
    "    synthesis_input = texttospeech.SynthesisInput(text=input_text)\n",
    "\n",
    "    voice = texttospeech.VoiceSelectionParams(\n",
    "        language_code=\"en-US\",\n",
    "        name=\"en-US-Wavenet-D\",\n",
    "        ssml_gender=texttospeech.SsmlVoiceGender.NEUTRAL\n",
    "    )\n",
    "\n",
    "    audio_config = texttospeech.AudioConfig(\n",
    "        audio_encoding=texttospeech.AudioEncoding.MP3\n",
    "    )\n",
    "\n",
    "    # call the API\n",
    "    response = client.synthesize_speech(\n",
    "        input=synthesis_input,\n",
    "        voice=voice,\n",
    "        audio_config=audio_config\n",
    "    )\n",
    "\n",
    "    with open(output_path, \"wb\") as out:\n",
    "        out.write(response.audio_content)\n",
    "        print(f\"✅ Audio saved to {output_path} within {time.time() - start:.2f} seconds\")\n"
   ],
   "id": "8deb6dc1dddb2ef8",
   "outputs": [],
   "execution_count": 68
  },
  {
   "metadata": {
    "ExecuteTime": {
     "end_time": "2025-05-20T19:43:33.188660Z",
     "start_time": "2025-05-20T19:43:04.424135Z"
    }
   },
   "cell_type": "code",
   "source": [
    "# for i, line in enumerate(hr_lines):\n",
    "#     tts_openai_invoke(input_text=line, output_path=f\"{hr_directory}/{i}.mp3\")"
   ],
   "id": "905a0e0b12aaaf7f",
   "outputs": [
    {
     "name": "stdout",
     "output_type": "stream",
     "text": [
      "✅ Audio saved to 0.mp3 within 1.50 seconds\n",
      "✅ Audio saved to 1.mp3 within 2.52 seconds\n",
      "✅ Audio saved to 2.mp3 within 2.65 seconds\n",
      "✅ Audio saved to 3.mp3 within 3.58 seconds\n",
      "✅ Audio saved to 4.mp3 within 3.45 seconds\n",
      "✅ Audio saved to 5.mp3 within 3.45 seconds\n",
      "✅ Audio saved to 6.mp3 within 3.02 seconds\n",
      "✅ Audio saved to 7.mp3 within 4.07 seconds\n",
      "✅ Audio saved to 8.mp3 within 2.76 seconds\n",
      "✅ Audio saved to 9.mp3 within 1.75 seconds\n"
     ]
    }
   ],
   "execution_count": 39
  },
  {
   "metadata": {
    "ExecuteTime": {
     "end_time": "2025-05-20T19:43:38.588889Z",
     "start_time": "2025-05-20T19:43:33.202871Z"
    }
   },
   "cell_type": "code",
   "source": [
    "# for i, line in enumerate(hr_lines):\n",
    "#     tts_google_invoke(input_text=line, output_path=f\"{hr_directory}\\{i}.mp3\")"
   ],
   "id": "109229e2e5c123ca",
   "outputs": [
    {
     "name": "stdout",
     "output_type": "stream",
     "text": [
      "✅ Audio saved to E:\\Desktop\\AI Stack\\conversation-resource\\hr\\0.mp3 within 0.52 seconds\n",
      "✅ Audio saved to E:\\Desktop\\AI Stack\\conversation-resource\\hr\\1.mp3 within 0.51 seconds\n",
      "✅ Audio saved to E:\\Desktop\\AI Stack\\conversation-resource\\hr\\2.mp3 within 0.41 seconds\n",
      "✅ Audio saved to E:\\Desktop\\AI Stack\\conversation-resource\\hr\\3.mp3 within 0.60 seconds\n",
      "✅ Audio saved to E:\\Desktop\\AI Stack\\conversation-resource\\hr\\4.mp3 within 0.53 seconds\n",
      "✅ Audio saved to E:\\Desktop\\AI Stack\\conversation-resource\\hr\\5.mp3 within 0.33 seconds\n",
      "✅ Audio saved to E:\\Desktop\\AI Stack\\conversation-resource\\hr\\6.mp3 within 0.63 seconds\n",
      "✅ Audio saved to E:\\Desktop\\AI Stack\\conversation-resource\\hr\\7.mp3 within 0.81 seconds\n",
      "✅ Audio saved to E:\\Desktop\\AI Stack\\conversation-resource\\hr\\8.mp3 within 0.60 seconds\n",
      "✅ Audio saved to E:\\Desktop\\AI Stack\\conversation-resource\\hr\\9.mp3 within 0.43 seconds\n"
     ]
    }
   ],
   "execution_count": 40
  },
  {
   "metadata": {
    "ExecuteTime": {
     "end_time": "2025-05-20T20:04:26.983258Z",
     "start_time": "2025-05-20T20:04:26.975741Z"
    }
   },
   "cell_type": "code",
   "source": [
    "import os\n",
    "from groq import Groq\n",
    "\n",
    "\n",
    "def stt_groq_invoke(audio_path):\n",
    "    client = Groq()\n",
    "\n",
    "    # model = \"whisper-large-v3-turbo\"\n",
    "    model = \"whisper-large-v3\"\n",
    "\n",
    "    start = time.time()\n",
    "    with open(audio_path, \"rb\") as file:\n",
    "        transcription = client.audio.transcriptions.create(\n",
    "            file=(audio_path, file.read()),\n",
    "            model=model,\n",
    "            response_format=\"verbose_json\",\n",
    "        )\n",
    "        return transcription.text\n",
    "    print(f\"✅ Total time convertion mp3: {time.time() - start}\")\n"
   ],
   "id": "cec92eafb49a3e3e",
   "outputs": [],
   "execution_count": 91
  },
  {
   "metadata": {
    "ExecuteTime": {
     "end_time": "2025-05-20T20:01:42.339411Z",
     "start_time": "2025-05-20T20:01:42.145908Z"
    }
   },
   "cell_type": "code",
   "source": [
    "import pygame\n",
    "\n",
    "def play_mp3(file_path):\n",
    "    pygame.mixer.init()\n",
    "    pygame.mixer.music.load(file_path)\n",
    "    pygame.mixer.music.play()\n",
    "    while pygame.mixer.music.get_busy():\n",
    "        continue\n"
   ],
   "id": "c3dec8d5cd33683f",
   "outputs": [
    {
     "name": "stdout",
     "output_type": "stream",
     "text": [
      "pygame 2.6.1 (SDL 2.28.4, Python 3.10.16)\n",
      "Hello from the pygame community. https://www.pygame.org/contribute.html\n"
     ]
    }
   ],
   "execution_count": 88
  },
  {
   "metadata": {
    "ExecuteTime": {
     "end_time": "2025-05-20T20:04:30.574970Z",
     "start_time": "2025-05-20T20:04:30.569434Z"
    }
   },
   "cell_type": "code",
   "source": [
    "# from playsound import playsound\n",
    "import time\n",
    "\n",
    "\n",
    "def simulation():\n",
    "    for i in range(10):\n",
    "        hr_mp3_path = rf\"{hr_directory}\\{i}.mp3\"\n",
    "        print(hr_mp3_path)\n",
    "        play_mp3(hr_mp3_path)\n",
    "        text = stt_groq_invoke(hr_mp3_path)\n",
    "        print(text)\n",
    "        time.sleep(0.7)\n",
    "        employee_mp3_path = rf\"{employee_directory}\\{i}.mp3\"\n",
    "        tts_openai_invoke(employee_lines[i], employee_mp3_path)\n",
    "        play_mp3(employee_mp3_path)\n",
    "        time.sleep(0.7)\n"
   ],
   "id": "e94a5fa7e541c05f",
   "outputs": [],
   "execution_count": 92
  },
  {
   "metadata": {
    "ExecuteTime": {
     "end_time": "2025-05-20T20:07:16.558510Z",
     "start_time": "2025-05-20T20:04:32.167010Z"
    }
   },
   "cell_type": "code",
   "source": "simulation()",
   "id": "ca85b14b66043581",
   "outputs": [
    {
     "name": "stdout",
     "output_type": "stream",
     "text": [
      "E:\\Desktop\\AI Stack\\conversation-resource\\hr\\0.mp3\n",
      " Hi John, thanks for joining. Please have a seat.\n",
      "✅ Audio saved to 0.mp3 within 2.82 seconds\n",
      "E:\\Desktop\\AI Stack\\conversation-resource\\hr\\1.mp3\n",
      " I know this might not be an easy conversation, but I want to be direct and respectful. After a thorough review, the management has made the decision to end your employment with the company, effective immediately.\n",
      "✅ Audio saved to 1.mp3 within 1.05 seconds\n",
      "E:\\Desktop\\AI Stack\\conversation-resource\\hr\\2.mp3\n",
      " Yes, I understand this may come as a shock. This decision was not taken lightly.\n",
      "✅ Audio saved to 2.mp3 within 1.70 seconds\n",
      "E:\\Desktop\\AI Stack\\conversation-resource\\hr\\3.mp3\n",
      " I completely understand your concern. The decision was based on a combination of factors, including ongoing feedback regarding project deadlines, communication with the team, and alignment with company goals. This has been discussed over the past few months during your check-ins.\n",
      "✅ Audio saved to 3.mp3 within 2.24 seconds\n",
      "E:\\Desktop\\AI Stack\\conversation-resource\\hr\\4.mp3\n",
      " You're right that we didn't issue a formal performance improvement plan. However, your last two evaluations did raise several red flags. The management team discussed this and decided not to proceed with a PIP but rather make a direct decision.\n",
      "✅ Audio saved to 4.mp3 within 1.51 seconds\n",
      "E:\\Desktop\\AI Stack\\conversation-resource\\hr\\5.mp3\n",
      " That was also a factor. The company is going through changes, and unfortunately, that means reducing roles in some departments.\n",
      "✅ Audio saved to 5.mp3 within 1.26 seconds\n",
      "E:\\Desktop\\AI Stack\\conversation-resource\\hr\\6.mp3\n",
      " Your access to company systems will end by the end of today. You'll receive two-month severance pay, continued health benefits for 30 days, and we'll offer outplacement support if you're interested.\n",
      "✅ Audio saved to 6.mp3 within 1.51 seconds\n",
      "E:\\Desktop\\AI Stack\\conversation-resource\\hr\\7.mp3\n",
      " Yes, I'm happy to provide a neutral reference confirming your role and time here. For a more detailed recommendation, I suggest reaching out to your former manager directly.\n",
      "✅ Audio saved to 7.mp3 within 2.57 seconds\n",
      "E:\\Desktop\\AI Stack\\conversation-resource\\hr\\8.mp3\n",
      " just your laptop and access card. You can leave them with IT today or tomorrow. We'll email a checklist.\n",
      "✅ Audio saved to 8.mp3 within 2.25 seconds\n",
      "E:\\Desktop\\AI Stack\\conversation-resource\\hr\\9.mp3\n",
      " I truly wish you all the best, John. If you need anything over the next few days, don't hesitate to reach out.\n",
      "✅ Audio saved to 9.mp3 within 1.36 seconds\n"
     ]
    }
   ],
   "execution_count": 93
  }
 ],
 "metadata": {
  "kernelspec": {
   "display_name": "Python 3",
   "language": "python",
   "name": "python3"
  },
  "language_info": {
   "codemirror_mode": {
    "name": "ipython",
    "version": 2
   },
   "file_extension": ".py",
   "mimetype": "text/x-python",
   "name": "python",
   "nbconvert_exporter": "python",
   "pygments_lexer": "ipython2",
   "version": "2.7.6"
  }
 },
 "nbformat": 4,
 "nbformat_minor": 5
}
