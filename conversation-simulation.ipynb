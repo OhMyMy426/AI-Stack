{
 "cells": [
  {
   "cell_type": "code",
   "id": "initial_id",
   "metadata": {
    "collapsed": true,
    "ExecuteTime": {
     "end_time": "2025-05-21T10:05:59.874033Z",
     "start_time": "2025-05-21T10:05:59.856614Z"
    }
   },
   "source": [
    "hr_lines = [\n",
    "    \"Hi John, thanks for joining. Please have a seat.\",\n",
    "    \"I know this might not be an easy conversation, but I want to be direct and respectful. After a thorough review, the management has made the decision to end your employment with the company, effective immediately.\",\n",
    "    \"Yes. I understand this may come as a shock. This decision was not taken lightly.\",\n",
    "    \"I completely understand your concern. The decision was based on a combination of factors, including ongoing feedback regarding project deadlines, communication with the team, and alignment with company goals. This has been discussed over the past few months during your check-ins.\",\n",
    "    \"You’re right that we didn’t issue a formal Performance Improvement Plan. However, your last two evaluations did raise several red flags. The management team discussed this and decided not to proceed with a PIP but rather make a direct decision.\",\n",
    "    \"That was also a factor. The company is going through changes, and unfortunately, that means reducing roles in some departments.\",\n",
    "    \"Your access to company systems will end by the end of today. You’ll receive two months’ severance pay, continued health benefits for 30 days, and we’ll offer outplacement support if you’re interested.\",\n",
    "    \"Yes. I’m happy to provide a neutral reference confirming your role and time here. For a more detailed recommendation, I suggest reaching out to your former manager directly.\",\n",
    "    \"Just your laptop and access card. You can leave them with IT today or tomorrow. We’ll email a checklist.\",\n",
    "    \"I truly wish you all the best, John. If you need anything over the next few days, don’t hesitate to reach out.\"\n",
    "]\n",
    "\n",
    "employee_lines = [\n",
    "    \"Sure, thanks Mary.\",\n",
    "    \"…Wait—I'm being let go?\",\n",
    "    \"Can I ask why? I thought my performance had been solid lately.\",\n",
    "    \"But no one told me I was at risk of being fired. I was never formally warned.\",\n",
    "    \"I’m still surprised. I’ve been trying to improve. Is this related to the recent restructuring?\",\n",
    "    \"So, what happens now?\",\n",
    "    \"Will I be able to get a reference?\",\n",
    "    \"Alright. Do I need to return anything?\",\n",
    "    \"I see. Well… this is not how I imagined today would go. But I appreciate the clarity.\",\n",
    "    \"Thanks, Mary. I’ll take some time to process this.\"\n",
    "]\n",
    "hr_directory = r\"E:\\Desktop\\AI Stack\\conversation-resource\\hr\"\n",
    "employee_directory = r\"E:\\Desktop\\AI Stack\\conversation-resource\\employee\""
   ],
   "outputs": [],
   "execution_count": 2
  },
  {
   "metadata": {
    "ExecuteTime": {
     "end_time": "2025-05-21T10:06:03.615139Z",
     "start_time": "2025-05-21T10:06:03.605637Z"
    }
   },
   "cell_type": "code",
   "source": [
    "import openai\n",
    "import os\n",
    "from dotenv import load_dotenv\n",
    "\n",
    "load_dotenv()\n",
    "openai.api_key = os.getenv(\"OPENAI_COACH_PROJECT_KEY\")"
   ],
   "id": "345af3660e0c3c61",
   "outputs": [],
   "execution_count": 4
  },
  {
   "metadata": {
    "ExecuteTime": {
     "end_time": "2025-05-21T10:06:06.033243Z",
     "start_time": "2025-05-21T10:06:06.022199Z"
    }
   },
   "cell_type": "code",
   "source": [
    "import openai\n",
    "import time\n",
    "\n",
    "\n",
    "def tts_openai_invoke(input_text, output_path):\n",
    "    start = time.time()\n",
    "    response = openai.audio.speech.create(\n",
    "        model=\"tts-1\",  # or \"tts-1-hd\"\n",
    "        voice=\"alloy\",  # or: alloy, echo, fable, onyx, nova, shimmer\n",
    "        input=input_text\n",
    "    )\n",
    "\n",
    "    with open(output_path, \"wb\") as f:\n",
    "        f.write(response.content)\n",
    "\n",
    "    print(f\"✅ Audio saved to {os.path.basename(output_path)} within {time.time() - start:.2f} seconds\")"
   ],
   "id": "32bd217abfa741ba",
   "outputs": [],
   "execution_count": 5
  },
  {
   "metadata": {
    "ExecuteTime": {
     "end_time": "2025-05-21T10:06:53.034638Z",
     "start_time": "2025-05-21T10:06:53.020338Z"
    }
   },
   "cell_type": "code",
   "source": [
    "import os\n",
    "from google.cloud import texttospeech\n",
    "from dotenv import load_dotenv\n",
    "import time\n",
    "\n",
    "load_dotenv()\n",
    "\n",
    "client = texttospeech.TextToSpeechClient()\n",
    "\n",
    "\n",
    "def tts_google_invoke(input_text, output_path):\n",
    "    if output_path.endswith(\"mp3\"):\n",
    "        audio_encoding = texttospeech.AudioEncoding.MP3\n",
    "    else:\n",
    "        audio_encoding = texttospeech.AudioEncoding.LINEAR16\n",
    "    start = time.time()\n",
    "    synthesis_input = texttospeech.SynthesisInput(text=input_text)\n",
    "\n",
    "    voice = texttospeech.VoiceSelectionParams(\n",
    "        language_code=\"en-US\",\n",
    "        name=\"en-US-Wavenet-D\",\n",
    "        ssml_gender=texttospeech.SsmlVoiceGender.NEUTRAL\n",
    "    )\n",
    "\n",
    "    audio_config = texttospeech.AudioConfig(\n",
    "        audio_encoding=audio_encoding\n",
    "    )\n",
    "\n",
    "    # call the API\n",
    "    response = client.synthesize_speech(\n",
    "        input=synthesis_input,\n",
    "        voice=voice,\n",
    "        audio_config=audio_config\n",
    "    )\n",
    "\n",
    "    with open(output_path, \"wb\") as out:\n",
    "        out.write(response.audio_content)\n",
    "        print(f\"✅ Audio saved to {output_path} within {time.time() - start:.2f} seconds\")\n"
   ],
   "id": "8deb6dc1dddb2ef8",
   "outputs": [],
   "execution_count": 7
  },
  {
   "metadata": {
    "ExecuteTime": {
     "end_time": "2025-05-21T10:07:20.925571Z",
     "start_time": "2025-05-21T10:06:55.487285Z"
    }
   },
   "cell_type": "code",
   "source": [
    "for i, line in enumerate(hr_lines):\n",
    "    tts_openai_invoke(input_text=line, output_path=rf\"{hr_directory}\\{i}.mp3\")"
   ],
   "id": "905a0e0b12aaaf7f",
   "outputs": [
    {
     "name": "stdout",
     "output_type": "stream",
     "text": [
      "✅ Audio saved to 0.mp3 within 2.48 seconds\n",
      "✅ Audio saved to 1.mp3 within 2.94 seconds\n",
      "✅ Audio saved to 2.mp3 within 1.87 seconds\n",
      "✅ Audio saved to 3.mp3 within 4.10 seconds\n",
      "✅ Audio saved to 4.mp3 within 2.71 seconds\n",
      "✅ Audio saved to 5.mp3 within 1.88 seconds\n",
      "✅ Audio saved to 6.mp3 within 2.57 seconds\n",
      "✅ Audio saved to 7.mp3 within 2.34 seconds\n",
      "✅ Audio saved to 8.mp3 within 2.13 seconds\n",
      "✅ Audio saved to 9.mp3 within 2.39 seconds\n"
     ]
    }
   ],
   "execution_count": 8
  },
  {
   "metadata": {
    "ExecuteTime": {
     "end_time": "2025-05-21T10:08:40.144161Z",
     "start_time": "2025-05-21T10:08:34.403187Z"
    }
   },
   "cell_type": "code",
   "source": [
    "for i, line in enumerate(hr_lines):\n",
    "    tts_google_invoke(input_text=line, output_path=rf\"{hr_directory}\\{i}.wav\")"
   ],
   "id": "109229e2e5c123ca",
   "outputs": [
    {
     "name": "stdout",
     "output_type": "stream",
     "text": [
      "✅ Audio saved to E:\\Desktop\\AI Stack\\conversation-resource\\hr\\0.wav within 0.44 seconds\n",
      "✅ Audio saved to E:\\Desktop\\AI Stack\\conversation-resource\\hr\\1.wav within 0.59 seconds\n",
      "✅ Audio saved to E:\\Desktop\\AI Stack\\conversation-resource\\hr\\2.wav within 0.61 seconds\n",
      "✅ Audio saved to E:\\Desktop\\AI Stack\\conversation-resource\\hr\\3.wav within 0.55 seconds\n",
      "✅ Audio saved to E:\\Desktop\\AI Stack\\conversation-resource\\hr\\4.wav within 1.01 seconds\n",
      "✅ Audio saved to E:\\Desktop\\AI Stack\\conversation-resource\\hr\\5.wav within 0.50 seconds\n",
      "✅ Audio saved to E:\\Desktop\\AI Stack\\conversation-resource\\hr\\6.wav within 0.49 seconds\n",
      "✅ Audio saved to E:\\Desktop\\AI Stack\\conversation-resource\\hr\\7.wav within 0.46 seconds\n",
      "✅ Audio saved to E:\\Desktop\\AI Stack\\conversation-resource\\hr\\8.wav within 0.71 seconds\n",
      "✅ Audio saved to E:\\Desktop\\AI Stack\\conversation-resource\\hr\\9.wav within 0.38 seconds\n"
     ]
    }
   ],
   "execution_count": 9
  },
  {
   "metadata": {
    "ExecuteTime": {
     "end_time": "2025-05-21T10:11:08.836889Z",
     "start_time": "2025-05-21T10:11:08.682622Z"
    }
   },
   "cell_type": "code",
   "source": [
    "import os\n",
    "from groq import Groq\n",
    "\n",
    "\n",
    "def stt_groq_invoke(audio_path):\n",
    "    client = Groq()\n",
    "\n",
    "    # model = \"whisper-large-v3-turbo\"\n",
    "    model = \"whisper-large-v3\"\n",
    "\n",
    "    start = time.time()\n",
    "    with open(audio_path, \"rb\") as file:\n",
    "        transcription = client.audio.transcriptions.create(\n",
    "            file=(audio_path, file.read()),\n",
    "            model=model,\n",
    "            response_format=\"verbose_json\",\n",
    "        )\n",
    "    print(f\"✅ Total time convertion mp3: {time.time() - start}\")\n",
    "    return transcription.text\n",
    "\n"
   ],
   "id": "cec92eafb49a3e3e",
   "outputs": [],
   "execution_count": 10
  },
  {
   "metadata": {
    "ExecuteTime": {
     "end_time": "2025-05-21T10:11:12.619672Z",
     "start_time": "2025-05-21T10:11:11.009464Z"
    }
   },
   "cell_type": "code",
   "source": [
    "import pygame\n",
    "\n",
    "\n",
    "def play_mp3(file_path):\n",
    "    pygame.mixer.init()\n",
    "    pygame.mixer.music.load(file_path)\n",
    "    pygame.mixer.music.play()\n",
    "    while pygame.mixer.music.get_busy():\n",
    "        continue\n"
   ],
   "id": "c3dec8d5cd33683f",
   "outputs": [
    {
     "name": "stdout",
     "output_type": "stream",
     "text": [
      "pygame 2.6.1 (SDL 2.28.4, Python 3.10.16)\n",
      "Hello from the pygame community. https://www.pygame.org/contribute.html\n"
     ]
    }
   ],
   "execution_count": 11
  },
  {
   "metadata": {
    "ExecuteTime": {
     "end_time": "2025-05-20T20:44:04.830031Z",
     "start_time": "2025-05-20T20:44:04.824373Z"
    }
   },
   "cell_type": "code",
   "source": [
    "# from playsound import playsound\n",
    "import time\n",
    "\n",
    "\n",
    "def simulation():\n",
    "    for i in range(10):\n",
    "        hr_mp3_path = rf\"{hr_directory}\\{i}.mp3\"\n",
    "        play_mp3(hr_mp3_path)\n",
    "        text = stt_groq_invoke(hr_mp3_path)\n",
    "        print(text)\n",
    "        time.sleep(0.7)\n",
    "        employee_mp3_path = rf\"{employee_directory}\\{i}.mp3\"\n",
    "        tts_google_invoke(employee_lines[i], employee_mp3_path)\n",
    "        play_mp3(employee_mp3_path)\n",
    "        time.sleep(0.7)\n"
   ],
   "id": "e94a5fa7e541c05f",
   "outputs": [],
   "execution_count": 13
  },
  {
   "metadata": {
    "ExecuteTime": {
     "end_time": "2025-05-20T20:46:43.766503Z",
     "start_time": "2025-05-20T20:44:06.565820Z"
    }
   },
   "cell_type": "code",
   "source": "simulation()",
   "id": "ca85b14b66043581",
   "outputs": [
    {
     "name": "stdout",
     "output_type": "stream",
     "text": [
      "✅ Total time convertion mp3: 0.4945547580718994\n",
      " Hi, John. Thanks for joining. Please have a seat.\n",
      "✅ Audio saved to E:\\Desktop\\AI Stack\\conversation-resource\\employee\\0.mp3 within 0.21 seconds\n",
      "✅ Total time convertion mp3: 0.8157632350921631\n",
      " I know this might not be an easy conversation, but I want to be direct and respectful. After a thorough review, the management has made the decision to end your employment with the company, effective immediately.\n",
      "✅ Audio saved to E:\\Desktop\\AI Stack\\conversation-resource\\employee\\1.mp3 within 0.20 seconds\n",
      "✅ Total time convertion mp3: 0.5018312931060791\n",
      " Yes, I understand this may come as a shock. This decision was not taken lightly.\n",
      "✅ Audio saved to E:\\Desktop\\AI Stack\\conversation-resource\\employee\\2.mp3 within 0.45 seconds\n",
      "✅ Total time convertion mp3: 0.9863526821136475\n",
      " I completely understand your concern. The decision was based on a combination of factors, including ongoing feedback regarding project deadlines, communication with the team, and alignment with company goals. This has been discussed over the past few months during your check-ins.\n",
      "✅ Audio saved to E:\\Desktop\\AI Stack\\conversation-resource\\employee\\3.mp3 within 0.37 seconds\n",
      "✅ Total time convertion mp3: 0.9542636871337891\n",
      " You're right that we didn't issue a formal performance improvement plan. However, your last two evaluations did raise several red flags. The management team discussed this and decided not to proceed with a P-HIP, but rather make a direct decision.\n",
      "✅ Audio saved to E:\\Desktop\\AI Stack\\conversation-resource\\employee\\4.mp3 within 0.41 seconds\n",
      "✅ Total time convertion mp3: 0.6641829013824463\n",
      " That was also a factor. The company is going through changes, and unfortunately that means reducing roles in some departments.\n",
      "✅ Audio saved to E:\\Desktop\\AI Stack\\conversation-resource\\employee\\5.mp3 within 0.16 seconds\n",
      "✅ Total time convertion mp3: 0.7455518245697021\n",
      " Your access to company systems will end by the end of today. You'll receive two months severance pay, continued health benefits for 30 days, and we'll offer outplacement support if you're interested.\n",
      "✅ Audio saved to E:\\Desktop\\AI Stack\\conversation-resource\\employee\\6.mp3 within 0.18 seconds\n",
      "✅ Total time convertion mp3: 1.024972677230835\n",
      " Yes, I'm happy to provide a neutral reference confirming your role and time here. For a more detailed recommendation, I suggest reaching out to your former manager directly.\n",
      "✅ Audio saved to E:\\Desktop\\AI Stack\\conversation-resource\\employee\\7.mp3 within 0.50 seconds\n",
      "✅ Total time convertion mp3: 0.5883119106292725\n",
      " just your laptop and access card. You can leave them with IT today or tomorrow. We'll email a checklist.\n",
      "✅ Audio saved to E:\\Desktop\\AI Stack\\conversation-resource\\employee\\8.mp3 within 0.47 seconds\n",
      "✅ Total time convertion mp3: 0.684093713760376\n",
      " I truly wish you all the best, John. If you need anything over the next few days, don't hesitate to reach out.\n",
      "✅ Audio saved to E:\\Desktop\\AI Stack\\conversation-resource\\employee\\9.mp3 within 0.34 seconds\n"
     ]
    }
   ],
   "execution_count": 14
  },
  {
   "metadata": {
    "ExecuteTime": {
     "end_time": "2025-05-21T10:22:34.237884Z",
     "start_time": "2025-05-21T10:22:34.223709Z"
    }
   },
   "cell_type": "code",
   "source": [
    "import sounddevice as sd\n",
    "import numpy as np\n",
    "from scipy.io.wavfile import write\n",
    "from pydub import AudioSegment\n",
    "import os\n",
    "import time\n",
    "\n",
    "import sounddevice as sd\n",
    "import numpy as np\n",
    "from scipy.io.wavfile import write\n",
    "from pydub import AudioSegment\n",
    "import os\n",
    "import threading\n",
    "\n",
    "def record_to_mp3_on_keypress(output_mp3_path, fs=16000):\n",
    "    \"\"\"\n",
    "    Records microphone input and stops when Enter is pressed.\n",
    "    Saves the audio to an MP3 file.\n",
    "    \"\"\"\n",
    "    print(\"🎙️ Recording... Press ENTER to stop.\")\n",
    "\n",
    "    recording = []\n",
    "    stop_flag = threading.Event()\n",
    "\n",
    "    def input_listener():\n",
    "        input(\"👉 Press ENTER to stop recording...\\n\")\n",
    "        stop_flag.set()\n",
    "\n",
    "    def callback(indata, frames, time_info, status):\n",
    "        if stop_flag.is_set():\n",
    "            raise sd.CallbackStop()\n",
    "        recording.append(indata.copy())\n",
    "\n",
    "    # Start keyboard listener thread\n",
    "    threading.Thread(target=input_listener, daemon=True).start()\n",
    "\n",
    "    try:\n",
    "        with sd.InputStream(samplerate=fs, channels=1, callback=callback):\n",
    "            while not stop_flag.is_set():\n",
    "                sd.sleep(100)\n",
    "    except sd.CallbackStop:\n",
    "        pass\n",
    "    except Exception as e:\n",
    "        print(f\"❌ Recording error: {e}\")\n",
    "        return\n",
    "\n",
    "    print(\"🛑 Recording stopped.\")\n",
    "\n",
    "    if not recording:\n",
    "        print(\"⚠️ No audio was recorded.\")\n",
    "        return\n",
    "\n",
    "    # Combine and save\n",
    "    audio_data = np.concatenate(recording, axis=0)\n",
    "    temp_wav = \"temp.wav\"\n",
    "    write(temp_wav, fs, audio_data)\n",
    "\n",
    "    sound = AudioSegment.from_wav(temp_wav)\n",
    "    sound.export(output_mp3_path, format=\"mp3\")\n",
    "    os.remove(temp_wav)\n",
    "\n",
    "    print(f\"✅ Recording saved to {output_mp3_path}\")\n"
   ],
   "id": "9a78c38d5f07436b",
   "outputs": [],
   "execution_count": 21
  },
  {
   "metadata": {
    "ExecuteTime": {
     "end_time": "2025-05-21T10:24:09.022242Z",
     "start_time": "2025-05-21T10:24:05.034553Z"
    }
   },
   "cell_type": "code",
   "source": "record_to_mp3_on_keypress(r\"E:\\Desktop\\AI Stack\\conversation-resource\\dummy.mp3\")",
   "id": "8c1a3469d5fe734b",
   "outputs": [
    {
     "name": "stdout",
     "output_type": "stream",
     "text": [
      "🎙️ Recording... Press ENTER to stop.\n",
      "🛑 Recording stopped.\n",
      "✅ Recording saved to E:\\Desktop\\AI Stack\\conversation-resource\\dummy.mp3\n"
     ]
    }
   ],
   "execution_count": 23
  },
  {
   "metadata": {
    "ExecuteTime": {
     "end_time": "2025-05-21T10:25:50.434985Z",
     "start_time": "2025-05-21T10:25:50.415660Z"
    }
   },
   "cell_type": "code",
   "source": [
    "def simulation():\n",
    "   for i in range(10):\n",
    "        # 用户录音替代 HR 音频播放\n",
    "        hr_mp3_path = rf\"{hr_directory}\\{i}.mp3\"\n",
    "        record_to_mp3_on_keypress(hr_mp3_path)\n",
    "\n",
    "        # STT 识别\n",
    "        text = stt_groq_invoke(hr_mp3_path)\n",
    "        print(f\"HR said: {text}\")\n",
    "        time.sleep(0.7)\n",
    "\n",
    "        # TTS 生成员工语音\n",
    "        employee_mp3_path = rf\"{employee_directory}\\{i}.mp3\"\n",
    "        tts_google_invoke(employee_lines[i], employee_mp3_path)\n",
    "        play_mp3(employee_mp3_path)\n",
    "        time.sleep(0.7)"
   ],
   "id": "7a8e22fcbc7148c1",
   "outputs": [],
   "execution_count": 25
  },
  {
   "metadata": {
    "ExecuteTime": {
     "end_time": "2025-05-21T10:28:14.275177Z",
     "start_time": "2025-05-21T10:25:53.267982Z"
    }
   },
   "cell_type": "code",
   "source": "simulation()",
   "id": "5530248fcb45c399",
   "outputs": [
    {
     "name": "stdout",
     "output_type": "stream",
     "text": [
      "🎙️ Recording... Press ENTER to stop.\n",
      "🛑 Recording stopped.\n",
      "✅ Recording saved to E:\\Desktop\\AI Stack\\conversation-resource\\hr\\0.mp3\n",
      "✅ Total time convertion mp3: 0.41703152656555176\n",
      "HR said:  Hi John, thanks for joining. Please have a seat.\n",
      "✅ Audio saved to E:\\Desktop\\AI Stack\\conversation-resource\\employee\\0.mp3 within 0.25 seconds\n",
      "🎙️ Recording... Press ENTER to stop.\n",
      "🛑 Recording stopped.\n",
      "✅ Recording saved to E:\\Desktop\\AI Stack\\conversation-resource\\hr\\1.mp3\n",
      "✅ Total time convertion mp3: 0.5667593479156494\n",
      "HR said:  I know this might be not an easy conversation, but I want to be direct and respectful. After a thorough review, the management has made the decision to end your employment with the company efficiently immediately.\n",
      "✅ Audio saved to E:\\Desktop\\AI Stack\\conversation-resource\\employee\\1.mp3 within 0.22 seconds\n",
      "🎙️ Recording... Press ENTER to stop.\n",
      "🛑 Recording stopped.\n",
      "✅ Recording saved to E:\\Desktop\\AI Stack\\conversation-resource\\hr\\2.mp3\n",
      "✅ Total time convertion mp3: 0.41533803939819336\n",
      "HR said:  Yes, I understand this might come as a shock, but this decision was not taken lightly.\n",
      "✅ Audio saved to E:\\Desktop\\AI Stack\\conversation-resource\\employee\\2.mp3 within 0.34 seconds\n",
      "🎙️ Recording... Press ENTER to stop.\n",
      "🛑 Recording stopped.\n",
      "✅ Recording saved to E:\\Desktop\\AI Stack\\conversation-resource\\hr\\3.mp3\n",
      "✅ Total time convertion mp3: 0.5430383682250977\n",
      "HR said:  I completely understand your concern. The decision was based on a combination of factors, including ongoing feedback regarding project deadlines, communication with the team, and align with the company goals. This has been discussed over the past few months during your check-ins.\n",
      "✅ Audio saved to E:\\Desktop\\AI Stack\\conversation-resource\\employee\\3.mp3 within 0.30 seconds\n",
      "🎙️ Recording... Press ENTER to stop.\n",
      "🛑 Recording stopped.\n",
      "✅ Recording saved to E:\\Desktop\\AI Stack\\conversation-resource\\hr\\4.mp3\n",
      "✅ Total time convertion mp3: 0.6827797889709473\n",
      "HR said:  You are right that we didn't issue formal performance improvement plan. However, your last two evaluations did raise several red flags. The management team discussed this and decided not to process with the PIP, but rather make a direct decision.\n",
      "✅ Audio saved to E:\\Desktop\\AI Stack\\conversation-resource\\employee\\4.mp3 within 0.40 seconds\n",
      "🎙️ Recording... Press ENTER to stop.\n",
      "🛑 Recording stopped.\n",
      "✅ Recording saved to E:\\Desktop\\AI Stack\\conversation-resource\\hr\\5.mp3\n",
      "✅ Total time convertion mp3: 0.26670074462890625\n",
      "HR said:  Yes.\n",
      "✅ Audio saved to E:\\Desktop\\AI Stack\\conversation-resource\\employee\\5.mp3 within 0.22 seconds\n",
      "🎙️ Recording... Press ENTER to stop.\n",
      "🛑 Recording stopped.\n",
      "✅ Recording saved to E:\\Desktop\\AI Stack\\conversation-resource\\hr\\6.mp3\n",
      "✅ Total time convertion mp3: 0.30097150802612305\n",
      "HR said:  you should leave now\n",
      "✅ Audio saved to E:\\Desktop\\AI Stack\\conversation-resource\\employee\\6.mp3 within 0.20 seconds\n",
      "🎙️ Recording... Press ENTER to stop.\n",
      "🛑 Recording stopped.\n",
      "✅ Recording saved to E:\\Desktop\\AI Stack\\conversation-resource\\hr\\7.mp3\n",
      "✅ Total time convertion mp3: 0.2740898132324219\n",
      "HR said:  Note\n",
      "✅ Audio saved to E:\\Desktop\\AI Stack\\conversation-resource\\employee\\7.mp3 within 0.37 seconds\n",
      "🎙️ Recording... Press ENTER to stop.\n",
      "🛑 Recording stopped.\n",
      "✅ Recording saved to E:\\Desktop\\AI Stack\\conversation-resource\\hr\\8.mp3\n",
      "✅ Total time convertion mp3: 0.2841830253601074\n",
      "HR said:  Nothing.\n",
      "✅ Audio saved to E:\\Desktop\\AI Stack\\conversation-resource\\employee\\8.mp3 within 0.72 seconds\n",
      "🎙️ Recording... Press ENTER to stop.\n",
      "🛑 Recording stopped.\n",
      "✅ Recording saved to E:\\Desktop\\AI Stack\\conversation-resource\\hr\\9.mp3\n",
      "✅ Total time convertion mp3: 0.29816484451293945\n",
      "HR said:  Okay, goodbye.\n",
      "✅ Audio saved to E:\\Desktop\\AI Stack\\conversation-resource\\employee\\9.mp3 within 0.35 seconds\n"
     ]
    }
   ],
   "execution_count": 26
  }
 ],
 "metadata": {
  "kernelspec": {
   "display_name": "Python 3",
   "language": "python",
   "name": "python3"
  },
  "language_info": {
   "codemirror_mode": {
    "name": "ipython",
    "version": 2
   },
   "file_extension": ".py",
   "mimetype": "text/x-python",
   "name": "python",
   "nbconvert_exporter": "python",
   "pygments_lexer": "ipython2",
   "version": "2.7.6"
  }
 },
 "nbformat": 4,
 "nbformat_minor": 5
}
